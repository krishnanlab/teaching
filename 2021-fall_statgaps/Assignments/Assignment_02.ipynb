{
 "cells": [
  {
   "cell_type": "markdown",
   "metadata": {},
   "source": [
    "# Day02 – Assignment"
   ]
  },
  {
   "cell_type": "markdown",
   "metadata": {},
   "source": [
    "Submit this Jupyter Notebook back to me via Slack with your comments/annotations on the code and the results, along with your interpretation of the results and answers the questions at the end of each part."
   ]
  },
  {
   "cell_type": "markdown",
   "metadata": {},
   "source": [
    "## Part 1 -- Calculating p-value using a permutation test"
   ]
  },
  {
   "cell_type": "markdown",
   "metadata": {},
   "source": [
    "Your tasks for this part 1 are to complete the exercise mentioned in class:\n",
    "1. Add comments/annotations on the code and the results, along with your interpretation of the results.\n",
    "2. Answers a couple of questions at the end."
   ]
  },
  {
   "cell_type": "code",
   "execution_count": null,
   "metadata": {},
   "outputs": [],
   "source": [
    "# Importing libraries we will use for this assignment\n",
    "import random\n",
    "import numpy as np\n",
    "import matplotlib.pyplot as plt\n",
    "%matplotlib inline"
   ]
  },
  {
   "cell_type": "code",
   "execution_count": null,
   "metadata": {},
   "outputs": [],
   "source": [
    "### Don't need to run this commented code ###\n",
    "# Generate some data\n",
    "\n",
    "# effect_size = 0.25\n",
    "# stddev      = 0.5\n",
    "# sample_size = 20\n",
    "\n",
    "# group1 = np.round(np.random.normal(size = sample_size, loc = 0.0, scale = stddev)*10)\n",
    "# group2 = np.round(np.random.normal(size = sample_size, loc = effect_size, scale = stddev)*10)\n",
    "\n",
    "# print(\"Group 1:\", group1)\n",
    "# print(\"Group 2:\", group2)"
   ]
  },
  {
   "cell_type": "markdown",
   "metadata": {},
   "source": [
    "_[ Add your notes here ]_"
   ]
  },
  {
   "cell_type": "code",
   "execution_count": null,
   "metadata": {},
   "outputs": [],
   "source": [
    "# Data\n",
    "group1 = [0, 5, 2, -2, 8,\n",
    "          -6, 0, 0, -6, -3,\n",
    "          -7, 4, -2, -2, 0,\n",
    "          -4, -1, -8, 0, 6]\n",
    "\n",
    "group2 = [-2, 2, -2, -5, 7,\n",
    "          11, 6, 2, 1, 1,\n",
    "          6, -2, -1, 7, 7,\n",
    "          -2, 4, 3, -1, 17]\n",
    "\n",
    "sample_size = len(group1)"
   ]
  },
  {
   "cell_type": "markdown",
   "metadata": {},
   "source": [
    "_[ Add your notes here ]_"
   ]
  },
  {
   "cell_type": "code",
   "execution_count": null,
   "metadata": {},
   "outputs": [],
   "source": [
    "# Add comments next to each code chunk to describe the data analysis steps\n",
    "\n",
    "plt.hist(group1, color = \"b\", alpha = 0.25, edgecolor = \"k\")\n",
    "plt.hist(group2, color = \"r\", alpha = 0.25, edgecolor = \"k\")\n",
    "plt.axvline(x = np.mean(group1), color = \"b\")\n",
    "plt.axvline(x = np.mean(group2), color = \"r\")"
   ]
  },
  {
   "cell_type": "markdown",
   "metadata": {},
   "source": [
    "_[ Add your notes here ]_"
   ]
  },
  {
   "cell_type": "code",
   "execution_count": null,
   "metadata": {},
   "outputs": [],
   "source": [
    "# Add comments next to each code chunk to describe the data analysis steps\n",
    "\n",
    "signal = np.mean(group2) - np.mean(group1)\n",
    "noise  = np.sqrt((np.var(group2) / sample_size) + (np.var(group1) / sample_size))\n",
    "\n",
    "test_statistic = signal / noise\n",
    "print(test_statistic)"
   ]
  },
  {
   "cell_type": "markdown",
   "metadata": {},
   "source": [
    "_[ Add your notes here ]_"
   ]
  },
  {
   "cell_type": "code",
   "execution_count": null,
   "metadata": {},
   "outputs": [],
   "source": [
    "# Add comments next to each code chunk to describe the data analysis steps\n",
    "\n",
    "num_permutations          = 10000\n",
    "permuted_test_statistics  = []"
   ]
  },
  {
   "cell_type": "markdown",
   "metadata": {},
   "source": [
    "_[ Add your notes here ]_"
   ]
  },
  {
   "cell_type": "code",
   "execution_count": null,
   "metadata": {},
   "outputs": [],
   "source": [
    "# Add comments next to each code chunk to describe the data analysis steps\n",
    "\n",
    "for i in range(num_permutations):\n",
    "    permuted_data = group1 + group2\n",
    "    random.shuffle(permuted_data)\n",
    "\n",
    "    rand_group1 = permuted_data[:20]\n",
    "    rand_group2 = permuted_data[20:]\n",
    "\n",
    "    signal = np.mean(rand_group2) - np.mean(rand_group1)\n",
    "    noise  = np.sqrt((np.var(rand_group2) / 20) + (np.var(rand_group1) / 20))\n",
    "\n",
    "    permuted_test_statistics.append(signal / noise)"
   ]
  },
  {
   "cell_type": "markdown",
   "metadata": {},
   "source": [
    "_[ Add your notes here ]_"
   ]
  },
  {
   "cell_type": "code",
   "execution_count": null,
   "metadata": {},
   "outputs": [],
   "source": [
    "# Add comments next to each code chunk to describe the data analysis steps\n",
    "\n",
    "plt.hist(permuted_test_statistics, edgecolor = \"k\")\n",
    "plt.axvline(test_statistic, color = \"red\", lw = 2)"
   ]
  },
  {
   "cell_type": "markdown",
   "metadata": {},
   "source": [
    "_[ Add your notes here ]_"
   ]
  },
  {
   "cell_type": "code",
   "execution_count": null,
   "metadata": {},
   "outputs": [],
   "source": [
    "# Add comments next to each code chunk to describe the data analysis steps\n",
    "\n",
    "pvalue = sum(permuted_test_statistics >= test_statistic) / num_permutations\n",
    "print(\"The pvalue based on a permutation test is\", pvalue)"
   ]
  },
  {
   "cell_type": "markdown",
   "metadata": {},
   "source": [
    "_[ Add your notes here ]_"
   ]
  },
  {
   "cell_type": "markdown",
   "metadata": {},
   "source": [
    "**Question 1:**  \n",
    "Define the p-value you just calculated in terms of this specific drug intervention experiment."
   ]
  },
  {
   "cell_type": "markdown",
   "metadata": {},
   "source": [
    "_[ Write your answer here. ]_"
   ]
  },
  {
   "cell_type": "code",
   "execution_count": null,
   "metadata": {},
   "outputs": [],
   "source": [
    "# Add comments next to each code chunk to describe the data analysis steps\n",
    "\n",
    "from scipy import stats\n",
    "stats.ttest_ind(group2, group1, equal_var=False)[1]/2"
   ]
  },
  {
   "cell_type": "markdown",
   "metadata": {},
   "source": [
    "**Question 2:**  \n",
    "Is the p-value you calcualted using the permutation test close to the p-value calcualted using the conventional t-test?"
   ]
  },
  {
   "cell_type": "markdown",
   "metadata": {},
   "source": [
    "_[ Write your answer here. ]_"
   ]
  },
  {
   "cell_type": "markdown",
   "metadata": {},
   "source": [
    "## Part 2 -- Effect of effect_size, variance, and sample_size on p-values"
   ]
  },
  {
   "cell_type": "markdown",
   "metadata": {},
   "source": [
    "Like we discussed in class, apart from the null hypothesis (which need not always be equivalent to random chance), the p-value of a statistical test depends on:\n",
    "1. Effect size,\n",
    "2. Sample size, and\n",
    "3. Variance within each group\n",
    "\n",
    "To explore how these factors influence the p-value, I have written the code below to simulate data for two groups multiple times (just like the excercise we did in class), each time varying the `effect_size`, `std_deviation`, and `sample_size`, and calculating the p-value using a T-test.\n",
    "\n",
    "Your tasks are the following:\n",
    "1. Carefully examine and annotate the code by writing detailed comments at each step.\n",
    "2. Examine the figure that is being produced and write a short paragraph about you observations on how these three quantities influence the p-value."
   ]
  },
  {
   "cell_type": "code",
   "execution_count": null,
   "metadata": {},
   "outputs": [],
   "source": [
    "## Imports\n",
    "import random\n",
    "import numpy as np\n",
    "import matplotlib.pyplot as plt\n",
    "%matplotlib inline\n",
    "from scipy import stats\n",
    "import pandas as pd"
   ]
  },
  {
   "cell_type": "code",
   "execution_count": null,
   "metadata": {},
   "outputs": [],
   "source": [
    "# Add comments next to each code chunk to describe the data analysis steps\n",
    "\n",
    "sample_data     = []\n",
    "es_sd_ss_pvalue = []\n",
    "\n",
    "for effect_size in np.arange(0.0, 1.05, 0.05):\n",
    "    for stddev in [0.5, 1, 2]:\n",
    "        for sample_size in [5, 10, 20, 50, 100, 200, 500, 1000]:\n",
    "            group1 = np.random.normal(size = sample_size, loc = 0, scale = stddev)\n",
    "            group2 = np.random.normal(size = sample_size, loc = effect_size, scale = stddev)\n",
    "\n",
    "            sample_data.append([[effect_size, stddev, sample_size], group1, group2])\n",
    "\n",
    "            ttest_out = abs(stats.ttest_ind(group1, group2)[1])\n",
    "            es_sd_ss_pvalue.append([effect_size, stddev, sample_size, ttest_out])"
   ]
  },
  {
   "cell_type": "markdown",
   "metadata": {},
   "source": [
    "_[ Add your notes here ]_"
   ]
  },
  {
   "cell_type": "code",
   "execution_count": null,
   "metadata": {},
   "outputs": [],
   "source": [
    "es_sd_ss_pvalue = pd.DataFrame.from_records(es_sd_ss_pvalue, columns = [\"effect_size\", \"std_deviation\", \"sample_size\", \"pvalue\"])\n",
    "es_sd_ss_pvalue"
   ]
  },
  {
   "cell_type": "markdown",
   "metadata": {},
   "source": [
    "_[ Add your notes here ]_"
   ]
  },
  {
   "cell_type": "code",
   "execution_count": null,
   "metadata": {},
   "outputs": [],
   "source": [
    "# Add comments next to each code chunk to describe the data analysis steps\n",
    "\n",
    "es_sd_ss_pvalue[\"below_threshold\"] = es_sd_ss_pvalue[\"pvalue\"] <= 0.05\n",
    "es_sd_ss_pvalue"
   ]
  },
  {
   "cell_type": "markdown",
   "metadata": {},
   "source": [
    "_[ Add your notes here ]_"
   ]
  },
  {
   "cell_type": "code",
   "execution_count": null,
   "metadata": {},
   "outputs": [],
   "source": [
    "# No need to add comments to this chunk that's just making the plot.\n",
    "# However, it is useful to go through it to make sure you understand what is being plotted in the figure.\n",
    "\n",
    "fig, axarr = plt.subplots(nrows = 1, ncols = 3, figsize = (12,5), sharey = True)\n",
    "cols = [0.5, 1, 2]\n",
    "for j in range(3):\n",
    "    subset = es_sd_ss_pvalue[es_sd_ss_pvalue[\"std_deviation\"] == cols[j]]\n",
    "    \n",
    "    axarr[j].set_title(cols[j], fontsize = 12)\n",
    "    axarr[j].set_xscale(\"log\")\n",
    "    \n",
    "    below_threshold = subset[subset[\"below_threshold\"] == True]\n",
    "    above_threshold = subset[subset[\"below_threshold\"] == False]\n",
    "    \n",
    "    axarr[j].plot(below_threshold[\"sample_size\"], below_threshold[\"effect_size\"], \"ro\")\n",
    "    axarr[j].plot(above_threshold[\"sample_size\"], above_threshold[\"effect_size\"], \"bx\")\n",
    "    \n",
    "axarr[1].set_xlabel(\"Sample Size\", fontsize = 16)\n",
    "axarr[0].set_ylabel(\"Effect Size\", fontsize = 16)\n",
    "\n",
    "plt.savefig(\"effectsize_variance_samplesize_pvalue.pdf\")"
   ]
  },
  {
   "cell_type": "markdown",
   "metadata": {},
   "source": [
    "**Question:**  \n",
    "The figure contains 3 plots next to each other, one for each value `std_deviation`. In each plot, the `sample_size` values are along the x-axis and the `effect_size` values are along the y-axis. Each point is either a red dot or a blue cross depending on whether the p-value for the t-test between the two groups (for that combination of `effect_size`, `std_deviation` , and `sample_size`) is below 0.05 or not.\n",
    "\n",
    "Examine the figure and write a short paragraph about you observations on how these three quantities influence the p-value."
   ]
  },
  {
   "cell_type": "markdown",
   "metadata": {},
   "source": [
    "_[ Write your answer here. ]_"
   ]
  },
  {
   "cell_type": "markdown",
   "metadata": {},
   "source": [
    "## Part 3 -- P-hacking"
   ]
  },
  {
   "cell_type": "markdown",
   "metadata": {},
   "source": [
    "P-hacking is the practice of collecting or selecting data or statistical analyses until nonsignificant results become significant.\n",
    "\n",
    "You tasks:\n",
    "1. Carefully examine and annotate the code by writing detailed comments at each step.\n",
    "2. Describe your thoughts on what this coding exercise has to do with p-hacking."
   ]
  },
  {
   "cell_type": "markdown",
   "metadata": {},
   "source": [
    "_[ Add your notes here. ]_"
   ]
  },
  {
   "cell_type": "code",
   "execution_count": null,
   "metadata": {},
   "outputs": [],
   "source": [
    "## Imports\n",
    "import random\n",
    "import numpy as np\n",
    "from scipy import stats\n",
    "import matplotlib.pyplot as plt\n",
    "%matplotlib inline"
   ]
  },
  {
   "cell_type": "markdown",
   "metadata": {},
   "source": [
    "_[ Add your notes here. ]_"
   ]
  },
  {
   "cell_type": "code",
   "execution_count": null,
   "metadata": {},
   "outputs": [],
   "source": [
    "# Add comments next to each code chunk to describe the data analysis steps\n",
    "\n",
    "data = np.random.normal(size = 200)\n",
    "plt.hist(data, edgecolor = \"k\")"
   ]
  },
  {
   "cell_type": "markdown",
   "metadata": {},
   "source": [
    "_[ Add your notes here. ]_"
   ]
  },
  {
   "cell_type": "code",
   "execution_count": null,
   "metadata": {},
   "outputs": [],
   "source": [
    "# Add comments next to each code chunk to describe the data analysis steps\n",
    "\n",
    "attempts = 0\n",
    "pvalue   = 1"
   ]
  },
  {
   "cell_type": "markdown",
   "metadata": {},
   "source": [
    "_[ Add your notes here. ]_"
   ]
  },
  {
   "cell_type": "code",
   "execution_count": null,
   "metadata": {},
   "outputs": [],
   "source": [
    "# Add comments next to each code chunk to describe the data analysis steps\n",
    "\n",
    "while pvalue > 0.05:\n",
    "    attempts += 1\n",
    "\n",
    "    sampled_inds = random.sample(range(len(data)), k = 100)\n",
    "    cases    = data[sampled_inds]\n",
    "    \n",
    "    mask     = np.array([True]*len(data))\n",
    "    mask[sampled_inds] = False\n",
    "    controls = data[mask]\n",
    "\n",
    "    pvalue = abs(stats.ttest_ind(cases, controls)[0])\n",
    "\n",
    "\n",
    "print(\"Congratulations! With p =\", pvalue, \"you achieved scientific success in\", attempts, \"attempts!\")"
   ]
  },
  {
   "cell_type": "markdown",
   "metadata": {},
   "source": [
    "**Question:**  \n",
    "What this coding exercise has to do with p-hacking?"
   ]
  },
  {
   "cell_type": "markdown",
   "metadata": {},
   "source": [
    "_[ Add your notes here. ]_"
   ]
  },
  {
   "cell_type": "code",
   "execution_count": null,
   "metadata": {},
   "outputs": [],
   "source": []
  }
 ],
 "metadata": {
  "kernelspec": {
   "display_name": "Python 3",
   "language": "python",
   "name": "python3"
  },
  "language_info": {
   "codemirror_mode": {
    "name": "ipython",
    "version": 3
   },
   "file_extension": ".py",
   "mimetype": "text/x-python",
   "name": "python",
   "nbconvert_exporter": "python",
   "pygments_lexer": "ipython3",
   "version": "3.8.3"
  }
 },
 "nbformat": 4,
 "nbformat_minor": 4
}
