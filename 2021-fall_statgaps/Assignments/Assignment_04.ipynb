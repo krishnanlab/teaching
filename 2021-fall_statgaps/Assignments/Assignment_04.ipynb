{
 "cells": [
  {
   "cell_type": "markdown",
   "metadata": {},
   "source": [
    "# Simulating the distribution of correlation coefficients"
   ]
  },
  {
   "cell_type": "code",
   "execution_count": null,
   "metadata": {},
   "outputs": [],
   "source": [
    "## Imports\n",
    "import numpy as np\n",
    "import random\n",
    "from scipy import stats\n",
    "from scipy.stats import pearsonr as cor\n",
    "import matplotlib.pyplot as plt\n",
    "%matplotlib inline"
   ]
  },
  {
   "cell_type": "markdown",
   "metadata": {},
   "source": [
    "## Correlation coefficients and \"significant\" correlation at sample size 10"
   ]
  },
  {
   "cell_type": "code",
   "execution_count": null,
   "metadata": {},
   "outputs": [],
   "source": [
    "n_samples = 10\n",
    "cor_coeff = [cor(np.random.uniform(size = n_samples), \n",
    "                 np.random.uniform(size = n_samples))[0] for i in range(10000)]"
   ]
  },
  {
   "cell_type": "markdown",
   "metadata": {},
   "source": [
    "_Put your notes and comments here!_"
   ]
  },
  {
   "cell_type": "code",
   "execution_count": null,
   "metadata": {},
   "outputs": [],
   "source": [
    "# Plotting histogram\n",
    "plt.figure()\n",
    "plt.grid(True, alpha = 0.3)\n",
    "plt.box(False)\n",
    "plt.hist(cor_coeff, 20, edgecolor = \"k\")\n",
    "plt.axvline(np.quantile(cor_coeff, 0.95), lw = 2, color = \"k\")\n",
    "plt.ylabel(\"Frequency\", fontsize = 16)\n",
    "plt.xlabel(\"Correlation Coefficient\", fontsize = 18);"
   ]
  },
  {
   "cell_type": "markdown",
   "metadata": {},
   "source": [
    "_Put your notes and comments here!_"
   ]
  },
  {
   "cell_type": "markdown",
   "metadata": {},
   "source": [
    "## Correlation coefficients and \"significant\" correlation at various sample sizes"
   ]
  },
  {
   "cell_type": "code",
   "execution_count": null,
   "metadata": {},
   "outputs": [],
   "source": [
    "null_cor_coeff = []\n",
    "\n",
    "for nsamples in [5, 10, 20, 50, 100]:\n",
    "    cor_coeff = [cor(np.random.uniform(size = nsamples), \n",
    "                     np.random.uniform(size = nsamples))[0] for i in range(10000)]\n",
    "    null_cor_coeff.append((nsamples, cor_coeff))"
   ]
  },
  {
   "cell_type": "markdown",
   "metadata": {},
   "source": [
    "_Put your notes and comments here!_"
   ]
  },
  {
   "cell_type": "code",
   "execution_count": null,
   "metadata": {},
   "outputs": [],
   "source": [
    "null_cor_coeff_thresh = [np.quantile(experiment[1], 0.95) for experiment in null_cor_coeff]"
   ]
  },
  {
   "cell_type": "markdown",
   "metadata": {},
   "source": [
    "_Put your notes and comments here!_"
   ]
  },
  {
   "cell_type": "code",
   "execution_count": null,
   "metadata": {},
   "outputs": [],
   "source": [
    "# Plotting histograms\n",
    "fig, axarr = plt.subplots(nrows = len(null_cor_coeff), ncols = 1, figsize = (9,16), sharex = True)\n",
    "for i in range(len(null_cor_coeff_thresh)):\n",
    "    axarr[i].grid(True, alpha = 0.3)\n",
    "    axarr[i].set_title(f\"n = {null_cor_coeff[i][0]}\", fontsize = 16)\n",
    "    axarr[i].hist(null_cor_coeff[i][1], 20, edgecolor = \"k\")\n",
    "    axarr[i].axvline(null_cor_coeff_thresh[i], lw = 2, color = \"k\")\n",
    "    axarr[i].set_ylabel(\"Frequency\", fontsize = 16)\n",
    "axarr[i].set_xlabel(\"Correlation Coefficient\", fontsize = 18);"
   ]
  },
  {
   "cell_type": "markdown",
   "metadata": {},
   "source": [
    "_Put your notes and comments here!_"
   ]
  }
 ],
 "metadata": {
  "kernelspec": {
   "display_name": "Python 3",
   "language": "python",
   "name": "python3"
  },
  "language_info": {
   "codemirror_mode": {
    "name": "ipython",
    "version": 3
   },
   "file_extension": ".py",
   "mimetype": "text/x-python",
   "name": "python",
   "nbconvert_exporter": "python",
   "pygments_lexer": "ipython3",
   "version": "3.8.3"
  }
 },
 "nbformat": 4,
 "nbformat_minor": 4
}
