{
 "cells": [
  {
   "cell_type": "markdown",
   "metadata": {},
   "source": [
    "# Day03 Assignment"
   ]
  },
  {
   "cell_type": "markdown",
   "metadata": {},
   "source": [
    "Submit this notebook back to me via Slack with your comments/annotations on the code and the results, along with your interpretation of the results and answers the questions at the end of each part.\n",
    "\n",
    "When you submit, make sure your notebook's filename is: `[FirstName]-[LastName]_Assignment-03.ipynb`"
   ]
  },
  {
   "cell_type": "markdown",
   "metadata": {},
   "source": [
    "# Power analysis and power curves"
   ]
  },
  {
   "cell_type": "code",
   "execution_count": null,
   "metadata": {},
   "outputs": [],
   "source": [
    "## Imports\n",
    "import random\n",
    "import numpy as np\n",
    "import pandas as pd\n",
    "import matplotlib.pyplot as plt\n",
    "%matplotlib inline\n",
    "from scipy import stats"
   ]
  },
  {
   "cell_type": "markdown",
   "metadata": {},
   "source": [
    "## Part 1 - Calculating power and generating a power curve for detecting unfair coins"
   ]
  },
  {
   "cell_type": "markdown",
   "metadata": {},
   "source": [
    "The code below implements an experimental design to measure the bias of a given coin:\n",
    "1. Flip the given coin `num_flips` times  \n",
    "2. Record the number of heads  \n",
    "3. Compare to the null distribution  \n",
    "4. Get a `p_value`  \n",
    "5. Reject or accept the null based on comparison to `alpha`  "
   ]
  },
  {
   "cell_type": "code",
   "execution_count": null,
   "metadata": {},
   "outputs": [],
   "source": [
    "num_flips = 20   ## sample size\n",
    "alpha     = 0.05 ## significance threshold"
   ]
  },
  {
   "cell_type": "markdown",
   "metadata": {},
   "source": [
    "_Put your notes here!_"
   ]
  },
  {
   "cell_type": "code",
   "execution_count": null,
   "metadata": {},
   "outputs": [],
   "source": [
    "# ! Add comments next to each code chunk to describe the data analysis steps ! #\n",
    "\n",
    "####################################\n",
    "# Setting up the null distribution #\n",
    "####################################\n",
    "\n",
    "num_permutations = 10000\n",
    "\n",
    "fair_num_heads = []\n",
    "for x in range(num_permutations):\n",
    "    num_heads = 0\n",
    "    for i in range(num_flips):\n",
    "        if random.random() <= 0.5:\n",
    "            num_heads += 1\n",
    "    fair_num_heads.append(num_heads)\n",
    "\n",
    "plt.hist(fair_num_heads, bins = 10, edgecolor = \"k\")"
   ]
  },
  {
   "cell_type": "markdown",
   "metadata": {},
   "source": [
    "_Put your notes here!_"
   ]
  },
  {
   "cell_type": "code",
   "execution_count": null,
   "metadata": {},
   "outputs": [],
   "source": [
    "# ! Add comments next to each code chunk to describe the data analysis steps ! #\n",
    "\n",
    "# A new coin\n",
    "coin_bias = 0.8 ## effect size\n",
    "\n",
    "## Perform the experiment once to test if this coin is biased\n",
    "num_heads = 0 \n",
    "for i in range(num_flips):\n",
    "    if random.random() <= coin_bias:\n",
    "        num_heads += 1\n",
    "\n",
    "\n",
    "plt.hist(fair_num_heads, bins = 10, edgecolor = \"k\")\n",
    "plt.axvline(num_heads, color = \"red\", lw = 2)\n",
    "print(num_heads, \"heads in\", num_flips, \"flips\\n\")\n",
    "\n",
    "number_above_experiment_val = 0\n",
    "for i in range(num_permutations):\n",
    "    null_observation      = abs((num_flips/2) - fair_num_heads[i])  \n",
    "    experiment_observation = abs((num_flips/2) - num_heads)\n",
    "    if experiment_observation < null_observation:\n",
    "        number_above_experiment_val += 1\n",
    "\n",
    "p_value = number_above_experiment_val / len(fair_num_heads)\n",
    "\n",
    "if(p_value < alpha):\n",
    "    print(\"P-value is\", p_value, \"<\", alpha, \"\\nReject the null hypothesis.\\nThe coin is biased!\")\n",
    "else:\n",
    "    print(\"P-value is\", p_value, \"≥\", alpha, \"\\nAccept the null hypothesis.\\nThe coin is unbiased!\")"
   ]
  },
  {
   "cell_type": "markdown",
   "metadata": {},
   "source": [
    "_Put your notes here!_"
   ]
  },
  {
   "cell_type": "code",
   "execution_count": null,
   "metadata": {},
   "outputs": [],
   "source": [
    "# ! Add comments next to each code chunk to describe the data analysis steps ! #\n",
    "\n",
    "## Calculate the power of this experiment\n",
    "num_null_rejects = 0\n",
    "for num_experiments in range(1000):\n",
    "    num_heads = 0\n",
    "    for i in range(num_flips):\n",
    "        if random.random() <= coin_bias:\n",
    "            num_heads += 1\n",
    "\n",
    "    number_above_experiment_val = 0\n",
    "    for i in range(num_permutations):\n",
    "        null_observation      = abs((num_flips/2) - fair_num_heads[i])  \n",
    "        experiment_observation = abs((num_flips/2) - num_heads)\n",
    "        if experiment_observation < null_observation:\n",
    "            number_above_experiment_val += 1\n",
    "\n",
    "    p_value = number_above_experiment_val / len(fair_num_heads)\n",
    "    \n",
    "    if p_value <= alpha:\n",
    "        num_null_rejects += 1 \n",
    "\n",
    "estimated_power = (num_null_rejects / 1000)\n",
    "print(\"The power is\", estimated_power)"
   ]
  },
  {
   "cell_type": "markdown",
   "metadata": {},
   "source": [
    "**Question 1:**  \n",
    "Define the power you just obtained in terms of this specific experiment."
   ]
  },
  {
   "cell_type": "markdown",
   "metadata": {},
   "source": [
    "_Write your answer here._"
   ]
  },
  {
   "cell_type": "code",
   "execution_count": null,
   "metadata": {},
   "outputs": [],
   "source": [
    "# ! Add comments next to each code chunk to describe the data analysis steps ! #\n",
    "\n",
    "# Power curve\n",
    "\n",
    "biases = np.arange(0.0, 1.01, 0.01)\n",
    "effectsize_estimatedpower = []\n",
    "\n",
    "for coin_bias in biases: \n",
    "    \n",
    "    num_null_rejects = 0\n",
    "    for num_experiments in range(1000):\n",
    "        \n",
    "        num_heads = 0\n",
    "        for i in range(num_flips):\n",
    "            if random.random() <= coin_bias:\n",
    "                num_heads += 1\n",
    "\n",
    "        number_above_experiment_val = 0\n",
    "        for i in range(num_permutations):\n",
    "            \n",
    "            null_observation      = abs((num_flips/2) - fair_num_heads[i])  \n",
    "            experiment_observation = abs((num_flips/2) - num_heads)\n",
    "            \n",
    "            if experiment_observation < null_observation:\n",
    "                number_above_experiment_val += 1\n",
    "\n",
    "        p_value = number_above_experiment_val / len(fair_num_heads)\n",
    "\n",
    "        if p_value <= alpha:\n",
    "            num_null_rejects += 1 \n",
    "  \n",
    "    estimated_power = (num_null_rejects / 1000)\n",
    "  \n",
    "    effectsize_estimatedpower.append([coin_bias, estimated_power])"
   ]
  },
  {
   "cell_type": "markdown",
   "metadata": {},
   "source": [
    "_Put your notes here!_"
   ]
  },
  {
   "cell_type": "code",
   "execution_count": null,
   "metadata": {},
   "outputs": [],
   "source": [
    "## No need to add comments to this chunk that's just making the plot\n",
    "X = np.array(effectsize_estimatedpower)\n",
    "plt.figure(figsize = (12,7))\n",
    "plt.plot(X[:,0], X[:,1], \"ko-\")\n",
    "plt.xlabel(\"Effect Size\")\n",
    "plt.ylabel(\"Estimated Power\")"
   ]
  },
  {
   "cell_type": "markdown",
   "metadata": {},
   "source": [
    "**Question 2:**  \n",
    "What does this power curve tell you?"
   ]
  },
  {
   "cell_type": "markdown",
   "metadata": {},
   "source": [
    "_Write your answer here._"
   ]
  },
  {
   "cell_type": "markdown",
   "metadata": {},
   "source": [
    "## Part 2 - Generating multiple power curves for detecting unfair coins\n",
    "\n",
    "Here you will be generating multiple power curves to establish the relationship between power, effect size, and sample size. You will notice that much of the code  above will be reused to generate the curve like the one above but for various sample sizes."
   ]
  },
  {
   "cell_type": "code",
   "execution_count": null,
   "metadata": {},
   "outputs": [],
   "source": [
    "# ! Add comments next to each code chunk to describe the data analysis steps ! #\n",
    "\n",
    "alpha = 0.05 ## significance threshold\n",
    "\n",
    "num_permutations = 10000\n",
    "flips = [5, 10, 50, 100]\n",
    "\n",
    "samplesize_fairnumheads = []\n",
    "\n",
    "for num_flips in flips:\n",
    "    fair_num_heads = []\n",
    "    for x in range(num_permutations):\n",
    "        num_heads = 0\n",
    "        for i in range(num_flips):\n",
    "            if random.random() <= 0.5:\n",
    "                num_heads += 1\n",
    "        fair_num_heads.append(num_heads)\n",
    "    \n",
    "    samplesize_fairnumheads.append([num_flips, fair_num_heads])"
   ]
  },
  {
   "cell_type": "markdown",
   "metadata": {},
   "source": [
    "_Put your notes here!_"
   ]
  },
  {
   "cell_type": "code",
   "execution_count": null,
   "metadata": {},
   "outputs": [],
   "source": [
    "## No need to add comments to this chunk that's just making the plot\n",
    "fig, axarr = plt.subplots(nrows = 1, ncols = len(flips), figsize = (16,5))\n",
    "for i in range(len(axarr)):\n",
    "    axarr[i].set_title(samplesize_fairnumheads[i][0], fontsize = 16)\n",
    "    axarr[i].hist(samplesize_fairnumheads[i][1], bins = 10, edgecolor = \"k\")"
   ]
  },
  {
   "cell_type": "markdown",
   "metadata": {},
   "source": [
    "**Question 3:**  \n",
    "What are your observations on how the null distribution changes with sample size?"
   ]
  },
  {
   "cell_type": "markdown",
   "metadata": {},
   "source": [
    "_Write your answer here._"
   ]
  },
  {
   "cell_type": "code",
   "execution_count": null,
   "metadata": {},
   "outputs": [],
   "source": [
    "# ! Add comments next to each code chunk to describe the data analysis steps ! #\n",
    "# NOTE: This part might take quite a while to run. Please be patient.\n",
    "\n",
    "biases = np.arange(0.0, 1.01, 0.01)\n",
    "samplesize_effectsize_estimated_power = []\n",
    "for num_flips in flips:\n",
    "    print(num_flips, \"flips\")\n",
    "    ## Get null distribution for sample size\n",
    "    fair_num_heads = [samplesize_fairnumheads[i][1] for i in range(len(flips)) if samplesize_fairnumheads[i][0] == num_flips][0]\n",
    "    \n",
    "    for coin_bias in biases: \n",
    "        num_null_rejects = 0\n",
    "        for num_experiments in range(1000):\n",
    "            num_heads = 0\n",
    "            for i in range(num_flips):\n",
    "                if random.random() <= coin_bias:\n",
    "                    num_heads += 1\n",
    "\n",
    "            number_above_experiment_val = 0\n",
    "            for i in range(num_permutations):\n",
    "                null_observation      = abs((num_flips/2) - fair_num_heads[i])  \n",
    "                experiment_observation = abs((num_flips/2) - num_heads)\n",
    "                if experiment_observation < null_observation:\n",
    "                    number_above_experiment_val += 1\n",
    "\n",
    "            p_value = number_above_experiment_val / len(fair_num_heads)\n",
    "\n",
    "            if p_value <= alpha:\n",
    "                num_null_rejects += 1 \n",
    "\n",
    "        estimated_power = (num_null_rejects / 1000)\n",
    "        samplesize_effectsize_estimated_power.append([num_flips, coin_bias, estimated_power])"
   ]
  },
  {
   "cell_type": "markdown",
   "metadata": {},
   "source": [
    "_Put your notes here!_"
   ]
  },
  {
   "cell_type": "code",
   "execution_count": null,
   "metadata": {},
   "outputs": [],
   "source": [
    "## No need to add comments to this chunk that's just making the plot\n",
    "df = pd.DataFrame.from_records(samplesize_effectsize_estimated_power, columns = [\"sample size\", \"coin bias\", \"estimated power\"])\n",
    "fig, axarr = plt.subplots(nrows = 1, ncols = len(flips), figsize = (20,5))\n",
    "for i in range(len(axarr)):\n",
    "    subset_df = df[df[\"sample size\"] == flips[i]]\n",
    "    axarr[i].plot(subset_df[\"coin bias\"], subset_df[\"estimated power\"], \"ko-\")\n",
    "    axarr[i].set_xlabel(\"Effect Size\")\n",
    "    axarr[0].set_ylabel(\"Estimated Power\")"
   ]
  },
  {
   "cell_type": "code",
   "execution_count": null,
   "metadata": {},
   "outputs": [],
   "source": [
    "## No need to add comments to this chunk that's just making the plot\n",
    "df = pd.DataFrame.from_records(samplesize_effectsize_estimated_power, columns = [\"sample size\", \"coin bias\", \"estimated power\"])\n",
    "\n",
    "plt.style.use('seaborn-white')\n",
    "\n",
    "shapes=['o','^','s','p']\n",
    "palette = plt.get_cmap('Set1')\n",
    "\n",
    "plt.figure(figsize = (12,7))\n",
    "\n",
    "for i in range(len(axarr)):\n",
    "    subset_df = df[df[\"sample size\"] == flips[i]]\n",
    "    plt.plot(subset_df[\"coin bias\"], subset_df[\"estimated power\"], marker = shapes[i], color=palette(i+1), linewidth=1, label=flips[i])\n",
    "\n",
    "plt.legend(loc=\"lower right\")\n",
    "plt.xlabel(\"Effect Size\")\n",
    "plt.ylabel(\"Estimated Power\")"
   ]
  },
  {
   "cell_type": "markdown",
   "metadata": {},
   "source": [
    "**Question 4:**  \n",
    "What are your interpretations of these curves? Write your thoughts in terms of the dependence of power on both effect size and sample size."
   ]
  },
  {
   "cell_type": "markdown",
   "metadata": {},
   "source": [
    "_Write your answer here._"
   ]
  },
  {
   "cell_type": "markdown",
   "metadata": {},
   "source": [
    "**Question 5:**  \n",
    "Say a national sport organization comes to you and says that they want to design an experiment to detect biased coins so that they can eliminate them and use only unbiased coins for pre-game tosses. How would you use the power analysis/curves above to go about helping them design the experiment? In your description, include questions you would want to know answers to before you can offer them reasonable recommendations in terms of sample size?"
   ]
  },
  {
   "cell_type": "markdown",
   "metadata": {},
   "source": [
    "_Write your answer here._"
   ]
  },
  {
   "cell_type": "markdown",
   "metadata": {},
   "source": [
    "**Question 6:**  \n",
    "If you make a specific sample size recommendation, write down what you will convey to organization in terms of error rates (i.e. false positive rate and false negative rate)."
   ]
  },
  {
   "cell_type": "markdown",
   "metadata": {},
   "source": [
    "_Write your answer here._"
   ]
  },
  {
   "cell_type": "markdown",
   "metadata": {},
   "source": [
    "**Question 5:**  \n",
    "Which parts of your reasoning and recommendations change if they say that they cannot tolerate more than 1 biased coin for every 100 coins they end up using?\n",
    "(Hint: This means changing alpha from 0.05 to 0.01. Makes sense?)"
   ]
  },
  {
   "cell_type": "markdown",
   "metadata": {},
   "source": [
    "_Write your answer here._"
   ]
  }
 ],
 "metadata": {
  "kernelspec": {
   "display_name": "Python 3",
   "language": "python",
   "name": "python3"
  },
  "language_info": {
   "codemirror_mode": {
    "name": "ipython",
    "version": 3
   },
   "file_extension": ".py",
   "mimetype": "text/x-python",
   "name": "python",
   "nbconvert_exporter": "python",
   "pygments_lexer": "ipython3",
   "version": "3.8.3"
  }
 },
 "nbformat": 4,
 "nbformat_minor": 4
}
